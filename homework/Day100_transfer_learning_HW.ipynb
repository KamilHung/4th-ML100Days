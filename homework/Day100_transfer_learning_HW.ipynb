{
 "cells": [
  {
   "cell_type": "markdown",
   "metadata": {},
   "source": [
    "## 作業\n",
    "礙於不是所有同學都有 GPU ，這邊的範例使用的是簡化版本的 ResNet，確保所有同學都能夠順利訓練!\n",
    "\n",
    "\n",
    "最後一天的作業請閱讀這篇非常詳盡的[文章](https://blog.gtwang.org/programming/keras-resnet-50-pre-trained-model-build-dogs-cats-image-classification-system/)，基本上已經涵蓋了所有訓練　CNN 常用的技巧，請使用所有學過的訓練技巧，盡可能地提高 Cifar-10 的 test data 準確率，截圖你最佳的結果並上傳來完成最後一次的作業吧!\n",
    "\n",
    "另外這些技巧在 Kaggle 上也會被許多人使用，更有人會開發一些新的技巧，例如使把預訓練在 ImageNet 上的模型當成 feature extractor 後，再拿擷取出的特徵重新訓練新的模型，這些技巧再進階的課程我們會在提到，有興趣的同學也可以[參考](https://www.kaggle.com/insaff/img-feature-extraction-with-pretrained-resnet)"
   ]
  },
  {
   "cell_type": "code",
   "execution_count": 1,
   "metadata": {},
   "outputs": [
    {
     "output_type": "stream",
     "name": "stderr",
     "text": [
      "Using TensorFlow backend.\n"
     ]
    }
   ],
   "source": [
    "from keras import backend as K\n",
    "from keras.datasets import cifar10\n",
    "from keras.applications.resnet50 import ResNet50\n",
    "from keras.models import Model\n",
    "from keras.layers import Flatten, Dense, Dropout\n",
    "from keras.optimizers import Adam\n",
    "from keras.utils import to_categorical\n",
    "from keras.preprocessing.image import ImageDataGenerator\n",
    "import os\n",
    "\n",
    "os.environ[\"CUDA_VISIBLE_DEVICES\"] = \"0\""
   ]
  },
  {
   "cell_type": "code",
   "execution_count": 2,
   "metadata": {},
   "outputs": [],
   "source": [
    "# Blas GEMM launch failed , 避免動態分配GPU / CPU, 出現問題\n",
    "import tensorflow as tf\n",
    "gpu_options = tf.compat.v1.GPUOptions(per_process_gpu_memory_fraction=0.333)\n",
    "sess = tf.compat.v1.Session(config=tf.compat.v1.ConfigProto(gpu_options=gpu_options))"
   ]
  },
  {
   "cell_type": "code",
   "execution_count": 3,
   "metadata": {},
   "outputs": [
    {
     "output_type": "stream",
     "name": "stdout",
     "text": [
      "x_train shape: (50000, 32, 32, 3)\n50000 train samples\n10000 test samples\n"
     ]
    }
   ],
   "source": [
    "# 讀取資料集並作前處理\n",
    "(x_train, y_train), (x_test, y_test) = cifar10.load_data()\n",
    "print('x_train shape:', x_train.shape)\n",
    "print(x_train.shape[0], 'train samples')\n",
    "print(x_test.shape[0], 'test samples')\n",
    "x_train = x_train.astype('float32')\n",
    "x_test = x_test.astype('float32')\n",
    "\n",
    "x_train = x_train / 255.\n",
    "x_test = x_test / 255.\n",
    "y_train = to_categorical(y_train, 10)\n",
    "y_test = to_categorical(y_test, 10)"
   ]
  },
  {
   "cell_type": "code",
   "execution_count": 4,
   "metadata": {},
   "outputs": [],
   "source": [
    "batch_size = 64 # batch 的大小，如果出現 OOM error，請降低這個值\n",
    "num_classes = 10 # 類別的數量，Cifar 10 共有 10 個類別\n",
    "epochs = 30 # 訓練的 epochs 數量"
   ]
  },
  {
   "cell_type": "code",
   "execution_count": 5,
   "metadata": {
    "tags": [
     "outputPrepend"
    ]
   },
   "outputs": [
    {
     "output_type": "stream",
     "name": "stdout",
     "text": [
      "][0]             \n__________________________________________________________________________________________________\nactivation_23 (Activation)      (None, 2, 2, 256)    0           bn4a_branch2a[0][0]              \n__________________________________________________________________________________________________\nres4a_branch2b (Conv2D)         (None, 2, 2, 256)    590080      activation_23[0][0]              \n__________________________________________________________________________________________________\nbn4a_branch2b (BatchNormalizati (None, 2, 2, 256)    1024        res4a_branch2b[0][0]             \n__________________________________________________________________________________________________\nactivation_24 (Activation)      (None, 2, 2, 256)    0           bn4a_branch2b[0][0]              \n__________________________________________________________________________________________________\nres4a_branch2c (Conv2D)         (None, 2, 2, 1024)   263168      activation_24[0][0]              \n__________________________________________________________________________________________________\nres4a_branch1 (Conv2D)          (None, 2, 2, 1024)   525312      activation_22[0][0]              \n__________________________________________________________________________________________________\nbn4a_branch2c (BatchNormalizati (None, 2, 2, 1024)   4096        res4a_branch2c[0][0]             \n__________________________________________________________________________________________________\nbn4a_branch1 (BatchNormalizatio (None, 2, 2, 1024)   4096        res4a_branch1[0][0]              \n__________________________________________________________________________________________________\nadd_8 (Add)                     (None, 2, 2, 1024)   0           bn4a_branch2c[0][0]              \n                                                                 bn4a_branch1[0][0]               \n__________________________________________________________________________________________________\nactivation_25 (Activation)      (None, 2, 2, 1024)   0           add_8[0][0]                      \n__________________________________________________________________________________________________\nres4b_branch2a (Conv2D)         (None, 2, 2, 256)    262400      activation_25[0][0]              \n__________________________________________________________________________________________________\nbn4b_branch2a (BatchNormalizati (None, 2, 2, 256)    1024        res4b_branch2a[0][0]             \n__________________________________________________________________________________________________\nactivation_26 (Activation)      (None, 2, 2, 256)    0           bn4b_branch2a[0][0]              \n__________________________________________________________________________________________________\nres4b_branch2b (Conv2D)         (None, 2, 2, 256)    590080      activation_26[0][0]              \n__________________________________________________________________________________________________\nbn4b_branch2b (BatchNormalizati (None, 2, 2, 256)    1024        res4b_branch2b[0][0]             \n__________________________________________________________________________________________________\nactivation_27 (Activation)      (None, 2, 2, 256)    0           bn4b_branch2b[0][0]              \n__________________________________________________________________________________________________\nres4b_branch2c (Conv2D)         (None, 2, 2, 1024)   263168      activation_27[0][0]              \n__________________________________________________________________________________________________\nbn4b_branch2c (BatchNormalizati (None, 2, 2, 1024)   4096        res4b_branch2c[0][0]             \n__________________________________________________________________________________________________\nadd_9 (Add)                     (None, 2, 2, 1024)   0           bn4b_branch2c[0][0]              \n                                                                 activation_25[0][0]              \n__________________________________________________________________________________________________\nactivation_28 (Activation)      (None, 2, 2, 1024)   0           add_9[0][0]                      \n__________________________________________________________________________________________________\nres4c_branch2a (Conv2D)         (None, 2, 2, 256)    262400      activation_28[0][0]              \n__________________________________________________________________________________________________\nbn4c_branch2a (BatchNormalizati (None, 2, 2, 256)    1024        res4c_branch2a[0][0]             \n__________________________________________________________________________________________________\nactivation_29 (Activation)      (None, 2, 2, 256)    0           bn4c_branch2a[0][0]              \n__________________________________________________________________________________________________\nres4c_branch2b (Conv2D)         (None, 2, 2, 256)    590080      activation_29[0][0]              \n__________________________________________________________________________________________________\nbn4c_branch2b (BatchNormalizati (None, 2, 2, 256)    1024        res4c_branch2b[0][0]             \n__________________________________________________________________________________________________\nactivation_30 (Activation)      (None, 2, 2, 256)    0           bn4c_branch2b[0][0]              \n__________________________________________________________________________________________________\nres4c_branch2c (Conv2D)         (None, 2, 2, 1024)   263168      activation_30[0][0]              \n__________________________________________________________________________________________________\nbn4c_branch2c (BatchNormalizati (None, 2, 2, 1024)   4096        res4c_branch2c[0][0]             \n__________________________________________________________________________________________________\nadd_10 (Add)                    (None, 2, 2, 1024)   0           bn4c_branch2c[0][0]              \n                                                                 activation_28[0][0]              \n__________________________________________________________________________________________________\nactivation_31 (Activation)      (None, 2, 2, 1024)   0           add_10[0][0]                     \n__________________________________________________________________________________________________\nres4d_branch2a (Conv2D)         (None, 2, 2, 256)    262400      activation_31[0][0]              \n__________________________________________________________________________________________________\nbn4d_branch2a (BatchNormalizati (None, 2, 2, 256)    1024        res4d_branch2a[0][0]             \n__________________________________________________________________________________________________\nactivation_32 (Activation)      (None, 2, 2, 256)    0           bn4d_branch2a[0][0]              \n__________________________________________________________________________________________________\nres4d_branch2b (Conv2D)         (None, 2, 2, 256)    590080      activation_32[0][0]              \n__________________________________________________________________________________________________\nbn4d_branch2b (BatchNormalizati (None, 2, 2, 256)    1024        res4d_branch2b[0][0]             \n__________________________________________________________________________________________________\nactivation_33 (Activation)      (None, 2, 2, 256)    0           bn4d_branch2b[0][0]              \n__________________________________________________________________________________________________\nres4d_branch2c (Conv2D)         (None, 2, 2, 1024)   263168      activation_33[0][0]              \n__________________________________________________________________________________________________\nbn4d_branch2c (BatchNormalizati (None, 2, 2, 1024)   4096        res4d_branch2c[0][0]             \n__________________________________________________________________________________________________\nadd_11 (Add)                    (None, 2, 2, 1024)   0           bn4d_branch2c[0][0]              \n                                                                 activation_31[0][0]              \n__________________________________________________________________________________________________\nactivation_34 (Activation)      (None, 2, 2, 1024)   0           add_11[0][0]                     \n__________________________________________________________________________________________________\nres4e_branch2a (Conv2D)         (None, 2, 2, 256)    262400      activation_34[0][0]              \n__________________________________________________________________________________________________\nbn4e_branch2a (BatchNormalizati (None, 2, 2, 256)    1024        res4e_branch2a[0][0]             \n__________________________________________________________________________________________________\nactivation_35 (Activation)      (None, 2, 2, 256)    0           bn4e_branch2a[0][0]              \n__________________________________________________________________________________________________\nres4e_branch2b (Conv2D)         (None, 2, 2, 256)    590080      activation_35[0][0]              \n__________________________________________________________________________________________________\nbn4e_branch2b (BatchNormalizati (None, 2, 2, 256)    1024        res4e_branch2b[0][0]             \n__________________________________________________________________________________________________\nactivation_36 (Activation)      (None, 2, 2, 256)    0           bn4e_branch2b[0][0]              \n__________________________________________________________________________________________________\nres4e_branch2c (Conv2D)         (None, 2, 2, 1024)   263168      activation_36[0][0]              \n__________________________________________________________________________________________________\nbn4e_branch2c (BatchNormalizati (None, 2, 2, 1024)   4096        res4e_branch2c[0][0]             \n__________________________________________________________________________________________________\nadd_12 (Add)                    (None, 2, 2, 1024)   0           bn4e_branch2c[0][0]              \n                                                                 activation_34[0][0]              \n__________________________________________________________________________________________________\nactivation_37 (Activation)      (None, 2, 2, 1024)   0           add_12[0][0]                     \n__________________________________________________________________________________________________\nres4f_branch2a (Conv2D)         (None, 2, 2, 256)    262400      activation_37[0][0]              \n__________________________________________________________________________________________________\nbn4f_branch2a (BatchNormalizati (None, 2, 2, 256)    1024        res4f_branch2a[0][0]             \n__________________________________________________________________________________________________\nactivation_38 (Activation)      (None, 2, 2, 256)    0           bn4f_branch2a[0][0]              \n__________________________________________________________________________________________________\nres4f_branch2b (Conv2D)         (None, 2, 2, 256)    590080      activation_38[0][0]              \n__________________________________________________________________________________________________\nbn4f_branch2b (BatchNormalizati (None, 2, 2, 256)    1024        res4f_branch2b[0][0]             \n__________________________________________________________________________________________________\nactivation_39 (Activation)      (None, 2, 2, 256)    0           bn4f_branch2b[0][0]              \n__________________________________________________________________________________________________\nres4f_branch2c (Conv2D)         (None, 2, 2, 1024)   263168      activation_39[0][0]              \n__________________________________________________________________________________________________\nbn4f_branch2c (BatchNormalizati (None, 2, 2, 1024)   4096        res4f_branch2c[0][0]             \n__________________________________________________________________________________________________\nadd_13 (Add)                    (None, 2, 2, 1024)   0           bn4f_branch2c[0][0]              \n                                                                 activation_37[0][0]              \n__________________________________________________________________________________________________\nactivation_40 (Activation)      (None, 2, 2, 1024)   0           add_13[0][0]                     \n__________________________________________________________________________________________________\nres5a_branch2a (Conv2D)         (None, 1, 1, 512)    524800      activation_40[0][0]              \n__________________________________________________________________________________________________\nbn5a_branch2a (BatchNormalizati (None, 1, 1, 512)    2048        res5a_branch2a[0][0]             \n__________________________________________________________________________________________________\nactivation_41 (Activation)      (None, 1, 1, 512)    0           bn5a_branch2a[0][0]              \n__________________________________________________________________________________________________\nres5a_branch2b (Conv2D)         (None, 1, 1, 512)    2359808     activation_41[0][0]              \n__________________________________________________________________________________________________\nbn5a_branch2b (BatchNormalizati (None, 1, 1, 512)    2048        res5a_branch2b[0][0]             \n__________________________________________________________________________________________________\nactivation_42 (Activation)      (None, 1, 1, 512)    0           bn5a_branch2b[0][0]              \n__________________________________________________________________________________________________\nres5a_branch2c (Conv2D)         (None, 1, 1, 2048)   1050624     activation_42[0][0]              \n__________________________________________________________________________________________________\nres5a_branch1 (Conv2D)          (None, 1, 1, 2048)   2099200     activation_40[0][0]              \n__________________________________________________________________________________________________\nbn5a_branch2c (BatchNormalizati (None, 1, 1, 2048)   8192        res5a_branch2c[0][0]             \n__________________________________________________________________________________________________\nbn5a_branch1 (BatchNormalizatio (None, 1, 1, 2048)   8192        res5a_branch1[0][0]              \n__________________________________________________________________________________________________\nadd_14 (Add)                    (None, 1, 1, 2048)   0           bn5a_branch2c[0][0]              \n                                                                 bn5a_branch1[0][0]               \n__________________________________________________________________________________________________\nactivation_43 (Activation)      (None, 1, 1, 2048)   0           add_14[0][0]                     \n__________________________________________________________________________________________________\nres5b_branch2a (Conv2D)         (None, 1, 1, 512)    1049088     activation_43[0][0]              \n__________________________________________________________________________________________________\nbn5b_branch2a (BatchNormalizati (None, 1, 1, 512)    2048        res5b_branch2a[0][0]             \n__________________________________________________________________________________________________\nactivation_44 (Activation)      (None, 1, 1, 512)    0           bn5b_branch2a[0][0]              \n__________________________________________________________________________________________________\nres5b_branch2b (Conv2D)         (None, 1, 1, 512)    2359808     activation_44[0][0]              \n__________________________________________________________________________________________________\nbn5b_branch2b (BatchNormalizati (None, 1, 1, 512)    2048        res5b_branch2b[0][0]             \n__________________________________________________________________________________________________\nactivation_45 (Activation)      (None, 1, 1, 512)    0           bn5b_branch2b[0][0]              \n__________________________________________________________________________________________________\nres5b_branch2c (Conv2D)         (None, 1, 1, 2048)   1050624     activation_45[0][0]              \n__________________________________________________________________________________________________\nbn5b_branch2c (BatchNormalizati (None, 1, 1, 2048)   8192        res5b_branch2c[0][0]             \n__________________________________________________________________________________________________\nadd_15 (Add)                    (None, 1, 1, 2048)   0           bn5b_branch2c[0][0]              \n                                                                 activation_43[0][0]              \n__________________________________________________________________________________________________\nactivation_46 (Activation)      (None, 1, 1, 2048)   0           add_15[0][0]                     \n__________________________________________________________________________________________________\nres5c_branch2a (Conv2D)         (None, 1, 1, 512)    1049088     activation_46[0][0]              \n__________________________________________________________________________________________________\nbn5c_branch2a (BatchNormalizati (None, 1, 1, 512)    2048        res5c_branch2a[0][0]             \n__________________________________________________________________________________________________\nactivation_47 (Activation)      (None, 1, 1, 512)    0           bn5c_branch2a[0][0]              \n__________________________________________________________________________________________________\nres5c_branch2b (Conv2D)         (None, 1, 1, 512)    2359808     activation_47[0][0]              \n__________________________________________________________________________________________________\nbn5c_branch2b (BatchNormalizati (None, 1, 1, 512)    2048        res5c_branch2b[0][0]             \n__________________________________________________________________________________________________\nactivation_48 (Activation)      (None, 1, 1, 512)    0           bn5c_branch2b[0][0]              \n__________________________________________________________________________________________________\nres5c_branch2c (Conv2D)         (None, 1, 1, 2048)   1050624     activation_48[0][0]              \n__________________________________________________________________________________________________\nbn5c_branch2c (BatchNormalizati (None, 1, 1, 2048)   8192        res5c_branch2c[0][0]             \n__________________________________________________________________________________________________\nadd_16 (Add)                    (None, 1, 1, 2048)   0           bn5c_branch2c[0][0]              \n                                                                 activation_46[0][0]              \n__________________________________________________________________________________________________\nactivation_49 (Activation)      (None, 1, 1, 2048)   0           add_16[0][0]                     \n__________________________________________________________________________________________________\nflatten_1 (Flatten)             (None, 2048)         0           activation_49[0][0]              \n__________________________________________________________________________________________________\ndropout_1 (Dropout)             (None, 2048)         0           flatten_1[0][0]                  \n__________________________________________________________________________________________________\nsoftmax (Dense)                 (None, 10)           20490       dropout_1[0][0]                  \n==================================================================================================\nTotal params: 23,608,202\nTrainable params: 23,555,082\nNon-trainable params: 53,120\n__________________________________________________________________________________________________\n"
     ]
    }
   ],
   "source": [
    "# 建立 ResNet 模型\n",
    "K.clear_session() # 把舊的 Graph 清掉\n",
    "model = ResNet50(weights='imagenet', include_top=False,input_shape=(32,32,3))\n",
    "x = model.output\n",
    "x = Flatten()(x)\n",
    "x = Dropout(0.25)(x)\n",
    "output = Dense(num_classes, activation='softmax', name='softmax')(x)\n",
    "net_final = Model(inputs=model.input, outputs=output)\n",
    "net_final.summary()"
   ]
  },
  {
   "cell_type": "code",
   "execution_count": 6,
   "metadata": {},
   "outputs": [
    {
     "output_type": "stream",
     "name": "stdout",
     "text": [
      "Epoch 1/30\n",
      "781/781 [==============================] - 84s 107ms/step - loss: 2.5905 - accuracy: 0.1169 - val_loss: 3.5736 - val_accuracy: 0.1228\n",
      "Epoch 2/30\n",
      "781/781 [==============================] - 69s 88ms/step - loss: 2.4115 - accuracy: 0.1262 - val_loss: 4.4872 - val_accuracy: 0.1797\n",
      "Epoch 3/30\n",
      "781/781 [==============================] - 69s 88ms/step - loss: 2.3490 - accuracy: 0.1291 - val_loss: 3.6393 - val_accuracy: 0.1984\n",
      "Epoch 4/30\n",
      "781/781 [==============================] - 69s 88ms/step - loss: 2.3181 - accuracy: 0.1327 - val_loss: 2.8924 - val_accuracy: 0.2321\n",
      "Epoch 5/30\n",
      "781/781 [==============================] - 69s 88ms/step - loss: 2.3004 - accuracy: 0.1352 - val_loss: 2.5517 - val_accuracy: 0.2426\n",
      "Epoch 6/30\n",
      "781/781 [==============================] - 69s 88ms/step - loss: 2.2893 - accuracy: 0.1344 - val_loss: 2.5549 - val_accuracy: 0.2504\n",
      "Epoch 7/30\n",
      "781/781 [==============================] - 68s 88ms/step - loss: 2.2752 - accuracy: 0.1371 - val_loss: 2.3829 - val_accuracy: 0.2694\n",
      "Epoch 8/30\n",
      "781/781 [==============================] - 68s 88ms/step - loss: 2.2669 - accuracy: 0.1372 - val_loss: 2.5184 - val_accuracy: 0.2704\n",
      "Epoch 9/30\n",
      "781/781 [==============================] - 68s 88ms/step - loss: 2.2612 - accuracy: 0.1432 - val_loss: 2.3000 - val_accuracy: 0.3048\n",
      "Epoch 10/30\n",
      "781/781 [==============================] - 69s 88ms/step - loss: 2.2602 - accuracy: 0.1437 - val_loss: 2.2978 - val_accuracy: 0.3253\n",
      "Epoch 11/30\n",
      "781/781 [==============================] - 68s 88ms/step - loss: 2.2561 - accuracy: 0.1444 - val_loss: 2.1767 - val_accuracy: 0.3479\n",
      "Epoch 12/30\n",
      "781/781 [==============================] - 69s 88ms/step - loss: 2.2566 - accuracy: 0.1446 - val_loss: 2.0001 - val_accuracy: 0.3605\n",
      "Epoch 13/30\n",
      "781/781 [==============================] - 69s 88ms/step - loss: 2.2466 - accuracy: 0.1474 - val_loss: 2.0435 - val_accuracy: 0.3703\n",
      "Epoch 14/30\n",
      "781/781 [==============================] - 69s 88ms/step - loss: 2.2460 - accuracy: 0.1509 - val_loss: 2.5370 - val_accuracy: 0.3710\n",
      "Epoch 15/30\n",
      "781/781 [==============================] - 68s 87ms/step - loss: 2.2412 - accuracy: 0.1493 - val_loss: 1.8039 - val_accuracy: 0.4013\n",
      "Epoch 16/30\n",
      "781/781 [==============================] - 69s 88ms/step - loss: 2.2408 - accuracy: 0.1490 - val_loss: 1.7998 - val_accuracy: 0.4192\n",
      "Epoch 17/30\n",
      "781/781 [==============================] - 69s 88ms/step - loss: 2.2380 - accuracy: 0.1533 - val_loss: 1.6801 - val_accuracy: 0.4344\n",
      "Epoch 18/30\n",
      "781/781 [==============================] - 68s 87ms/step - loss: 2.2377 - accuracy: 0.1526 - val_loss: 1.6855 - val_accuracy: 0.4317\n",
      "Epoch 19/30\n",
      "781/781 [==============================] - 69s 88ms/step - loss: 2.2355 - accuracy: 0.1541 - val_loss: 1.8088 - val_accuracy: 0.4260\n",
      "Epoch 20/30\n",
      "781/781 [==============================] - 69s 88ms/step - loss: 2.2321 - accuracy: 0.1545 - val_loss: 1.6311 - val_accuracy: 0.4612\n",
      "Epoch 21/30\n",
      "781/781 [==============================] - 68s 87ms/step - loss: 2.2299 - accuracy: 0.1563 - val_loss: 1.5326 - val_accuracy: 0.4878\n",
      "Epoch 22/30\n",
      "781/781 [==============================] - 69s 88ms/step - loss: 2.2289 - accuracy: 0.1559 - val_loss: 1.5631 - val_accuracy: 0.4813\n",
      "Epoch 23/30\n",
      "781/781 [==============================] - 69s 88ms/step - loss: 2.2270 - accuracy: 0.1564 - val_loss: 1.4701 - val_accuracy: 0.4993\n",
      "Epoch 24/30\n",
      "781/781 [==============================] - 68s 88ms/step - loss: 2.2233 - accuracy: 0.1606 - val_loss: 1.4522 - val_accuracy: 0.5183\n",
      "Epoch 25/30\n",
      "781/781 [==============================] - 69s 88ms/step - loss: 2.2247 - accuracy: 0.1611 - val_loss: 1.4343 - val_accuracy: 0.5132\n",
      "Epoch 26/30\n",
      "781/781 [==============================] - 69s 88ms/step - loss: 2.2213 - accuracy: 0.1623 - val_loss: 1.3799 - val_accuracy: 0.5283\n",
      "Epoch 27/30\n",
      "781/781 [==============================] - 68s 88ms/step - loss: 2.2217 - accuracy: 0.1592 - val_loss: 1.4472 - val_accuracy: 0.5269\n",
      "Epoch 28/30\n",
      "781/781 [==============================] - 69s 88ms/step - loss: 2.2198 - accuracy: 0.1604 - val_loss: 1.3574 - val_accuracy: 0.5369\n",
      "Epoch 29/30\n",
      "781/781 [==============================] - 69s 88ms/step - loss: 2.2202 - accuracy: 0.1603 - val_loss: 1.4070 - val_accuracy: 0.5360\n",
      "Epoch 30/30\n",
      "781/781 [==============================] - 69s 88ms/step - loss: 2.2136 - accuracy: 0.1624 - val_loss: 1.2790 - val_accuracy: 0.5623\n"
     ]
    }
   ],
   "source": [
    "#compile\n",
    "net_final.compile(optimizer=Adam(lr=1e-5),loss='categorical_crossentropy', metrics=['accuracy'])\n",
    "#ImageDataGenerator\n",
    "augment_generator = ImageDataGenerator(rotation_range=40,\n",
    "                                   width_shift_range=0.2,\n",
    "                                   height_shift_range=0.2,\n",
    "                                   shear_range=0.2,\n",
    "                                   zoom_range=0.2,\n",
    "                                   channel_shift_range=10,\n",
    "                                   horizontal_flip=True,\n",
    "                                   fill_mode='nearest')\n",
    "\n",
    "history = net_final.fit_generator(\n",
    "                    augment_generator.flow(x_train, y_train, batch_size=batch_size),\n",
    "                    steps_per_epoch=int(len(x_train)/batch_size), # 一個 epochs 要執行幾次 update，通常是資料量除以 batch size\n",
    "                    epochs=epochs,\n",
    "                    verbose=1,\n",
    "                    validation_data=(x_test, y_test))"
   ]
  },
  {
   "cell_type": "code",
   "execution_count": 7,
   "metadata": {},
   "outputs": [
    {
     "output_type": "stream",
     "name": "stdout",
     "text": [
      "10000/10000 [==============================] - 5s 475us/step\n",
      "Test loss: 1.2789762798309325\n",
      "Test accuracy: 0.5623000264167786\n"
     ]
    }
   ],
   "source": [
    "score = net_final.evaluate(x_test, y_test, verbose=1)\n",
    "print('Test loss:', score[0])\n",
    "print('Test accuracy:', score[1])"
   ]
  }
 ],
 "metadata": {
  "kernelspec": {
   "name": "python3",
   "display_name": "Python 3.7.9 64-bit (conda)",
   "metadata": {
    "interpreter": {
     "hash": "895210453c954da06bdc6e25ab5209d0b459833a36a75bea98f2fc4cc809448d"
    }
   }
  },
  "language_info": {
   "codemirror_mode": {
    "name": "ipython",
    "version": 3
   },
   "file_extension": ".py",
   "mimetype": "text/x-python",
   "name": "python",
   "nbconvert_exporter": "python",
   "pygments_lexer": "ipython3",
   "version": "3.7.9-final"
  }
 },
 "nbformat": 4,
 "nbformat_minor": 2
}