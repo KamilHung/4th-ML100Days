{
 "cells": [
  {
   "cell_type": "code",
   "execution_count": 1,
   "metadata": {},
   "outputs": [
    {
     "output_type": "stream",
     "name": "stderr",
     "text": [
      "Using TensorFlow backend.\n"
     ]
    }
   ],
   "source": [
    "import keras\n",
    "from keras.datasets import cifar10\n",
    "from keras.preprocessing.image import ImageDataGenerator\n",
    "from keras.models import Sequential\n",
    "from keras.layers import Dense, Dropout, Activation, Flatten\n",
    "from keras.layers import Conv2D, MaxPooling2D\n",
    "from keras.optimizers import RMSprop, Adam\n",
    "import os\n",
    "\n",
    "os.environ[\"CUDA_VISIBLE_DEVICES\"] = \"0\""
   ]
  },
  {
   "cell_type": "code",
   "execution_count": 2,
   "metadata": {},
   "outputs": [
    {
     "output_type": "stream",
     "name": "stdout",
     "text": [
      "x_train shape: (50000, 32, 32, 3)\n50000 train samples\n10000 test samples\n"
     ]
    }
   ],
   "source": [
    "batch_size = 128 # batch 的大小，如果出現 OOM error，請降低這個值\n",
    "num_classes = 10 # 類別的數量，Cifar 10 共有 10 個類別\n",
    "epochs = 30 # 訓練的 epochs 數量\n",
    "\n",
    "# 讀取資料並檢視\n",
    "(x_train, y_train), (x_test, y_test) = cifar10.load_data()\n",
    "print('x_train shape:', x_train.shape)\n",
    "print(x_train.shape[0], 'train samples')\n",
    "print(x_test.shape[0], 'test samples')\n",
    "\n",
    "# 對 label 進行 one-hot encoding (y_trian 原本是純數字)\n",
    "y_train = keras.utils.to_categorical(y_train, num_classes)\n",
    "y_test = keras.utils.to_categorical(y_test, num_classes)"
   ]
  },
  {
   "cell_type": "markdown",
   "metadata": {},
   "source": [
    "## 首先我們使用一般的 DNN (MLP) 來訓練\n",
    "由於 DNN 只能輸入一維的資料，我們要先將影像進行攤平，若 (50000, 32, 32, 3) 的影像，攤平後會變成 (50000, 32*32*3) = (50000, 3072)"
   ]
  },
  {
   "cell_type": "code",
   "execution_count": 3,
   "metadata": {},
   "outputs": [
    {
     "output_type": "stream",
     "name": "stdout",
     "text": [
      "50000 train samples\n10000 test samples\n"
     ]
    }
   ],
   "source": [
    "# 將資料攤平成一維資料\n",
    "x_train = x_train.reshape(50000, 3072) \n",
    "x_test = x_test.reshape(10000, 3072)\n",
    "\n",
    "# 將資料變為 float32 並標準化\n",
    "x_train = x_train.astype('float32')\n",
    "x_test = x_test.astype('float32')\n",
    "x_train /= 255\n",
    "x_test /= 255\n",
    "print(x_train.shape[0], 'train samples')\n",
    "print(x_test.shape[0], 'test samples')"
   ]
  },
  {
   "cell_type": "code",
   "execution_count": 4,
   "metadata": {},
   "outputs": [
    {
     "output_type": "stream",
     "name": "stdout",
     "text": [
      "Model: \"sequential_1\"\n",
      "_________________________________________________________________\n",
      "Layer (type)                 Output Shape              Param #   \n",
      "=================================================================\n",
      "dense_1 (Dense)              (None, 512)               1573376   \n",
      "_________________________________________________________________\n",
      "dropout_1 (Dropout)          (None, 512)               0         \n",
      "_________________________________________________________________\n",
      "dense_2 (Dense)              (None, 512)               262656    \n",
      "_________________________________________________________________\n",
      "dropout_2 (Dropout)          (None, 512)               0         \n",
      "_________________________________________________________________\n",
      "dense_3 (Dense)              (None, 10)                5130      \n",
      "=================================================================\n",
      "Total params: 1,841,162\n",
      "Trainable params: 1,841,162\n",
      "Non-trainable params: 0\n",
      "_________________________________________________________________\n",
      "Train on 50000 samples, validate on 10000 samples\n",
      "Epoch 1/30\n",
      "50000/50000 [==============================] - 3s 53us/step - loss: 2.0952 - accuracy: 0.2510 - val_loss: 1.8391 - val_accuracy: 0.3375\n",
      "Epoch 2/30\n",
      "50000/50000 [==============================] - 2s 33us/step - loss: 1.8544 - accuracy: 0.3306 - val_loss: 1.7229 - val_accuracy: 0.3951\n",
      "Epoch 3/30\n",
      "50000/50000 [==============================] - 2s 33us/step - loss: 1.7826 - accuracy: 0.3580 - val_loss: 1.7040 - val_accuracy: 0.3938\n",
      "Epoch 4/30\n",
      "50000/50000 [==============================] - 2s 33us/step - loss: 1.7297 - accuracy: 0.3766 - val_loss: 1.6844 - val_accuracy: 0.4000\n",
      "Epoch 5/30\n",
      "50000/50000 [==============================] - 2s 34us/step - loss: 1.6910 - accuracy: 0.3931 - val_loss: 1.6517 - val_accuracy: 0.4110\n",
      "Epoch 6/30\n",
      "50000/50000 [==============================] - 2s 33us/step - loss: 1.6644 - accuracy: 0.4006 - val_loss: 1.6133 - val_accuracy: 0.4252\n",
      "Epoch 7/30\n",
      "50000/50000 [==============================] - 2s 33us/step - loss: 1.6435 - accuracy: 0.4128 - val_loss: 1.6683 - val_accuracy: 0.3985\n",
      "Epoch 8/30\n",
      "50000/50000 [==============================] - 2s 34us/step - loss: 1.6208 - accuracy: 0.4203 - val_loss: 1.5833 - val_accuracy: 0.4359\n",
      "Epoch 9/30\n",
      "50000/50000 [==============================] - 2s 33us/step - loss: 1.6043 - accuracy: 0.4252 - val_loss: 1.5925 - val_accuracy: 0.4286\n",
      "Epoch 10/30\n",
      "50000/50000 [==============================] - 2s 34us/step - loss: 1.5899 - accuracy: 0.4334 - val_loss: 1.7425 - val_accuracy: 0.3873\n",
      "Epoch 11/30\n",
      "50000/50000 [==============================] - 2s 33us/step - loss: 1.5766 - accuracy: 0.4391 - val_loss: 1.6431 - val_accuracy: 0.4294\n",
      "Epoch 12/30\n",
      "50000/50000 [==============================] - 2s 33us/step - loss: 1.5696 - accuracy: 0.4419 - val_loss: 1.5315 - val_accuracy: 0.4564\n",
      "Epoch 13/30\n",
      "50000/50000 [==============================] - 2s 33us/step - loss: 1.5585 - accuracy: 0.4418 - val_loss: 1.5034 - val_accuracy: 0.4749\n",
      "Epoch 14/30\n",
      "50000/50000 [==============================] - 2s 34us/step - loss: 1.5455 - accuracy: 0.4492 - val_loss: 1.5256 - val_accuracy: 0.4631\n",
      "Epoch 15/30\n",
      "50000/50000 [==============================] - 2s 33us/step - loss: 1.5398 - accuracy: 0.4511 - val_loss: 1.5636 - val_accuracy: 0.4525\n",
      "Epoch 16/30\n",
      "50000/50000 [==============================] - 2s 34us/step - loss: 1.5360 - accuracy: 0.4535 - val_loss: 1.5344 - val_accuracy: 0.4617\n",
      "Epoch 17/30\n",
      "50000/50000 [==============================] - 2s 34us/step - loss: 1.5277 - accuracy: 0.4583 - val_loss: 1.5524 - val_accuracy: 0.4503\n",
      "Epoch 18/30\n",
      "50000/50000 [==============================] - 2s 34us/step - loss: 1.5146 - accuracy: 0.4602 - val_loss: 1.4686 - val_accuracy: 0.4954\n",
      "Epoch 19/30\n",
      "50000/50000 [==============================] - 2s 33us/step - loss: 1.5099 - accuracy: 0.4619 - val_loss: 1.5955 - val_accuracy: 0.4410\n",
      "Epoch 20/30\n",
      "50000/50000 [==============================] - 2s 33us/step - loss: 1.5048 - accuracy: 0.4653 - val_loss: 1.4920 - val_accuracy: 0.4754\n",
      "Epoch 21/30\n",
      "50000/50000 [==============================] - 2s 33us/step - loss: 1.4963 - accuracy: 0.4672 - val_loss: 1.5609 - val_accuracy: 0.4464\n",
      "Epoch 22/30\n",
      "50000/50000 [==============================] - 2s 33us/step - loss: 1.4992 - accuracy: 0.4691 - val_loss: 1.5076 - val_accuracy: 0.4780\n",
      "Epoch 23/30\n",
      "50000/50000 [==============================] - 2s 34us/step - loss: 1.4887 - accuracy: 0.4712 - val_loss: 1.4811 - val_accuracy: 0.4745\n",
      "Epoch 24/30\n",
      "50000/50000 [==============================] - 2s 33us/step - loss: 1.4849 - accuracy: 0.4712 - val_loss: 1.4989 - val_accuracy: 0.4670\n",
      "Epoch 25/30\n",
      "50000/50000 [==============================] - 2s 33us/step - loss: 1.4868 - accuracy: 0.4718 - val_loss: 1.5206 - val_accuracy: 0.4640\n",
      "Epoch 26/30\n",
      "50000/50000 [==============================] - 2s 33us/step - loss: 1.4790 - accuracy: 0.4759 - val_loss: 1.5017 - val_accuracy: 0.4625\n",
      "Epoch 27/30\n",
      "50000/50000 [==============================] - 2s 32us/step - loss: 1.4777 - accuracy: 0.4764 - val_loss: 1.4866 - val_accuracy: 0.4835\n",
      "Epoch 28/30\n",
      "50000/50000 [==============================] - 2s 33us/step - loss: 1.4642 - accuracy: 0.4830 - val_loss: 1.4750 - val_accuracy: 0.4825\n",
      "Epoch 29/30\n",
      "50000/50000 [==============================] - 2s 34us/step - loss: 1.4670 - accuracy: 0.4791 - val_loss: 1.4709 - val_accuracy: 0.4694\n",
      "Epoch 30/30\n",
      "50000/50000 [==============================] - 2s 33us/step - loss: 1.4630 - accuracy: 0.4816 - val_loss: 1.5039 - val_accuracy: 0.4679\n",
      "Test loss: 1.5039361289978028\n",
      "Test accuracy: 0.46790000796318054\n"
     ]
    }
   ],
   "source": [
    "model = Sequential()\n",
    "model.add(Dense(512, activation='relu', input_shape=(3072,)))\n",
    "model.add(Dropout(0.2))\n",
    "model.add(Dense(512, activation='relu'))\n",
    "model.add(Dropout(0.2))\n",
    "model.add(Dense(num_classes, activation='softmax'))\n",
    "\n",
    "model.summary()\n",
    "\n",
    "model.compile(loss='categorical_crossentropy',\n",
    "              optimizer=RMSprop(),\n",
    "              metrics=['accuracy'])\n",
    "\n",
    "history = model.fit(x_train, y_train,\n",
    "                    batch_size=batch_size,\n",
    "                    epochs=epochs,\n",
    "                    verbose=1,\n",
    "                    validation_data=(x_test, y_test))\n",
    "score = model.evaluate(x_test, y_test, verbose=0)\n",
    "print('Test loss:', score[0])\n",
    "print('Test accuracy:', score[1])"
   ]
  },
  {
   "cell_type": "markdown",
   "metadata": {},
   "source": [
    "## 接下來我們使用 CNN 來訓練神經網路\n",
    "CNN 的原理非常適合處理影像類的資料，就讓我們來看看，同樣的訓練條件，CNN 是否顯著優於 DNN 呢?"
   ]
  },
  {
   "cell_type": "code",
   "execution_count": 5,
   "metadata": {},
   "outputs": [
    {
     "output_type": "stream",
     "name": "stdout",
     "text": [
      "x_train shape: (50000, 32, 32, 3)\n50000 train samples\n10000 test samples\n"
     ]
    }
   ],
   "source": [
    "(x_train, y_train), (x_test, y_test) = cifar10.load_data()\n",
    "print('x_train shape:', x_train.shape)\n",
    "print(x_train.shape[0], 'train samples')\n",
    "print(x_test.shape[0], 'test samples')\n",
    "x_train = x_train.astype('float32')\n",
    "x_test = x_test.astype('float32')\n",
    "x_train /= 255\n",
    "x_test /= 255\n",
    "\n",
    "# Convert class vectors to binary class matrices.\n",
    "y_train = keras.utils.to_categorical(y_train, num_classes)\n",
    "y_test = keras.utils.to_categorical(y_test, num_classes)"
   ]
  },
  {
   "cell_type": "code",
   "execution_count": 6,
   "metadata": {},
   "outputs": [
    {
     "output_type": "stream",
     "name": "stdout",
     "text": [
      "Model: \"sequential_2\"\n",
      "_________________________________________________________________\n",
      "Layer (type)                 Output Shape              Param #   \n",
      "=================================================================\n",
      "conv2d_1 (Conv2D)            (None, 32, 32, 32)        896       \n",
      "_________________________________________________________________\n",
      "activation_1 (Activation)    (None, 32, 32, 32)        0         \n",
      "_________________________________________________________________\n",
      "conv2d_2 (Conv2D)            (None, 30, 30, 32)        9248      \n",
      "_________________________________________________________________\n",
      "activation_2 (Activation)    (None, 30, 30, 32)        0         \n",
      "_________________________________________________________________\n",
      "max_pooling2d_1 (MaxPooling2 (None, 15, 15, 32)        0         \n",
      "_________________________________________________________________\n",
      "dropout_3 (Dropout)          (None, 15, 15, 32)        0         \n",
      "_________________________________________________________________\n",
      "conv2d_3 (Conv2D)            (None, 15, 15, 64)        18496     \n",
      "_________________________________________________________________\n",
      "activation_3 (Activation)    (None, 15, 15, 64)        0         \n",
      "_________________________________________________________________\n",
      "conv2d_4 (Conv2D)            (None, 13, 13, 64)        36928     \n",
      "_________________________________________________________________\n",
      "activation_4 (Activation)    (None, 13, 13, 64)        0         \n",
      "_________________________________________________________________\n",
      "max_pooling2d_2 (MaxPooling2 (None, 6, 6, 64)          0         \n",
      "_________________________________________________________________\n",
      "dropout_4 (Dropout)          (None, 6, 6, 64)          0         \n",
      "_________________________________________________________________\n",
      "flatten_1 (Flatten)          (None, 2304)              0         \n",
      "_________________________________________________________________\n",
      "dense_4 (Dense)              (None, 512)               1180160   \n",
      "_________________________________________________________________\n",
      "activation_5 (Activation)    (None, 512)               0         \n",
      "_________________________________________________________________\n",
      "dropout_5 (Dropout)          (None, 512)               0         \n",
      "_________________________________________________________________\n",
      "dense_5 (Dense)              (None, 10)                5130      \n",
      "_________________________________________________________________\n",
      "activation_6 (Activation)    (None, 10)                0         \n",
      "=================================================================\n",
      "Total params: 1,250,858\n",
      "Trainable params: 1,250,858\n",
      "Non-trainable params: 0\n",
      "_________________________________________________________________\n",
      "Train on 50000 samples, validate on 10000 samples\n",
      "Epoch 1/30\n",
      "50000/50000 [==============================] - 8s 163us/step - loss: 1.7320 - accuracy: 0.3750 - val_loss: 1.2938 - val_accuracy: 0.5339\n",
      "Epoch 2/30\n",
      "50000/50000 [==============================] - 5s 91us/step - loss: 1.2972 - accuracy: 0.5399 - val_loss: 1.0559 - val_accuracy: 0.6259\n",
      "Epoch 3/30\n",
      "50000/50000 [==============================] - 5s 91us/step - loss: 1.1083 - accuracy: 0.6105 - val_loss: 1.1123 - val_accuracy: 0.6122\n",
      "Epoch 4/30\n",
      "50000/50000 [==============================] - 4s 89us/step - loss: 0.9817 - accuracy: 0.6567 - val_loss: 0.8738 - val_accuracy: 0.6917\n",
      "Epoch 5/30\n",
      "50000/50000 [==============================] - 5s 93us/step - loss: 0.8919 - accuracy: 0.6871 - val_loss: 0.8810 - val_accuracy: 0.6941\n",
      "Epoch 6/30\n",
      "50000/50000 [==============================] - 5s 90us/step - loss: 0.8214 - accuracy: 0.7135 - val_loss: 0.7460 - val_accuracy: 0.7396\n",
      "Epoch 7/30\n",
      "50000/50000 [==============================] - 4s 87us/step - loss: 0.7665 - accuracy: 0.7336 - val_loss: 0.8156 - val_accuracy: 0.7252\n",
      "Epoch 8/30\n",
      "50000/50000 [==============================] - 4s 87us/step - loss: 0.7272 - accuracy: 0.7484 - val_loss: 0.8148 - val_accuracy: 0.7150\n",
      "Epoch 9/30\n",
      "50000/50000 [==============================] - 4s 87us/step - loss: 0.6914 - accuracy: 0.7611 - val_loss: 0.6740 - val_accuracy: 0.7666\n",
      "Epoch 10/30\n",
      "50000/50000 [==============================] - 4s 86us/step - loss: 0.6625 - accuracy: 0.7707 - val_loss: 0.7049 - val_accuracy: 0.7575\n",
      "Epoch 11/30\n",
      "50000/50000 [==============================] - 4s 86us/step - loss: 0.6364 - accuracy: 0.7793 - val_loss: 0.6712 - val_accuracy: 0.7770\n",
      "Epoch 12/30\n",
      "50000/50000 [==============================] - 4s 87us/step - loss: 0.6243 - accuracy: 0.7857 - val_loss: 0.6617 - val_accuracy: 0.7740\n",
      "Epoch 13/30\n",
      "50000/50000 [==============================] - 4s 87us/step - loss: 0.6129 - accuracy: 0.7887 - val_loss: 0.6834 - val_accuracy: 0.7743\n",
      "Epoch 14/30\n",
      "50000/50000 [==============================] - 4s 86us/step - loss: 0.6041 - accuracy: 0.7923 - val_loss: 0.6542 - val_accuracy: 0.7806\n",
      "Epoch 15/30\n",
      "50000/50000 [==============================] - 4s 87us/step - loss: 0.5963 - accuracy: 0.7987 - val_loss: 0.7212 - val_accuracy: 0.7740\n",
      "Epoch 16/30\n",
      "50000/50000 [==============================] - 4s 87us/step - loss: 0.5941 - accuracy: 0.7979 - val_loss: 0.7677 - val_accuracy: 0.7512\n",
      "Epoch 17/30\n",
      "50000/50000 [==============================] - 4s 88us/step - loss: 0.5920 - accuracy: 0.8016 - val_loss: 0.7621 - val_accuracy: 0.7558\n",
      "Epoch 18/30\n",
      "50000/50000 [==============================] - 4s 87us/step - loss: 0.5886 - accuracy: 0.8028 - val_loss: 0.7679 - val_accuracy: 0.7842\n",
      "Epoch 19/30\n",
      "50000/50000 [==============================] - 4s 87us/step - loss: 0.5872 - accuracy: 0.8037 - val_loss: 0.8545 - val_accuracy: 0.7533\n",
      "Epoch 20/30\n",
      "50000/50000 [==============================] - 4s 86us/step - loss: 0.5781 - accuracy: 0.8067 - val_loss: 0.6718 - val_accuracy: 0.7812\n",
      "Epoch 21/30\n",
      "50000/50000 [==============================] - 4s 86us/step - loss: 0.5781 - accuracy: 0.8105 - val_loss: 0.7999 - val_accuracy: 0.7787\n",
      "Epoch 22/30\n",
      "50000/50000 [==============================] - 4s 87us/step - loss: 0.5867 - accuracy: 0.8057 - val_loss: 0.7596 - val_accuracy: 0.7755\n",
      "Epoch 23/30\n",
      "50000/50000 [==============================] - 4s 86us/step - loss: 0.5863 - accuracy: 0.8051 - val_loss: 0.7041 - val_accuracy: 0.7861\n",
      "Epoch 24/30\n",
      "50000/50000 [==============================] - 4s 86us/step - loss: 0.5938 - accuracy: 0.8036 - val_loss: 0.7284 - val_accuracy: 0.7952\n",
      "Epoch 25/30\n",
      "50000/50000 [==============================] - 4s 86us/step - loss: 0.5902 - accuracy: 0.8050 - val_loss: 0.7265 - val_accuracy: 0.7853\n",
      "Epoch 26/30\n",
      "50000/50000 [==============================] - 4s 87us/step - loss: 0.5911 - accuracy: 0.8067 - val_loss: 0.6482 - val_accuracy: 0.7873\n",
      "Epoch 27/30\n",
      "50000/50000 [==============================] - 4s 87us/step - loss: 0.5934 - accuracy: 0.8047 - val_loss: 0.7676 - val_accuracy: 0.7595\n",
      "Epoch 28/30\n",
      "50000/50000 [==============================] - 4s 86us/step - loss: 0.5916 - accuracy: 0.8063 - val_loss: 0.7839 - val_accuracy: 0.7663\n",
      "Epoch 29/30\n",
      "50000/50000 [==============================] - 4s 86us/step - loss: 0.5961 - accuracy: 0.8078 - val_loss: 0.6984 - val_accuracy: 0.7866\n",
      "Epoch 30/30\n",
      "50000/50000 [==============================] - 4s 86us/step - loss: 0.5905 - accuracy: 0.8072 - val_loss: 0.7286 - val_accuracy: 0.7649\n",
      "Test loss: 0.7285885501861572\n",
      "Test accuracy: 0.7649000287055969\n"
     ]
    }
   ],
   "source": [
    "model = Sequential()\n",
    "model.add(Conv2D(32, (3, 3), padding='same',\n",
    "                 input_shape=x_train.shape[1:]))\n",
    "model.add(Activation('relu'))\n",
    "model.add(Conv2D(32, (3, 3)))\n",
    "model.add(Activation('relu'))\n",
    "model.add(MaxPooling2D(pool_size=(2, 2)))\n",
    "model.add(Dropout(0.25))\n",
    "\n",
    "model.add(Conv2D(64, (3, 3), padding='same'))\n",
    "model.add(Activation('relu'))\n",
    "model.add(Conv2D(64, (3, 3)))\n",
    "model.add(Activation('relu'))\n",
    "model.add(MaxPooling2D(pool_size=(2, 2)))\n",
    "model.add(Dropout(0.25))\n",
    "\n",
    "model.add(Flatten())\n",
    "model.add(Dense(512))\n",
    "model.add(Activation('relu'))\n",
    "model.add(Dropout(0.5))\n",
    "model.add(Dense(num_classes))\n",
    "model.add(Activation('softmax'))\n",
    "model.summary()\n",
    "\n",
    "model.compile(loss='categorical_crossentropy',\n",
    "              optimizer=RMSprop(),\n",
    "              metrics=['accuracy'])\n",
    "\n",
    "history = model.fit(x_train, y_train,\n",
    "                    batch_size=batch_size,\n",
    "                    epochs=epochs,\n",
    "                    verbose=1,\n",
    "                    validation_data=(x_test, y_test))\n",
    "score = model.evaluate(x_test, y_test, verbose=0)\n",
    "print('Test loss:', score[0])\n",
    "print('Test accuracy:', score[1])"
   ]
  },
  {
   "cell_type": "markdown",
   "metadata": {},
   "source": [
    "## 同樣運算 10 個 epochs，但 CNN 在 test data 的準確率顯著優於 DNN!"
   ]
  },
  {
   "cell_type": "markdown",
   "metadata": {},
   "source": [
    "## 作業\n",
    "1. 請試著調整各個超參數，並說明那些超參數對於結果有明顯的影響?\n",
    "2. CNN 與 DNN 哪個模型的參數數量比較多? 造成參數的數量不同的原因在哪?\n",
    "\n",
    "A: \n",
    "\n",
    "1.增加訓練次數后，尤其在CNN模型的訓練上有了明顯的增加\n",
    "\n",
    "2.DNN模型的參數數量比較多，因爲CNN模型的池化層和捲積層能夠維持形狀資訊避免參數大幅增加"
   ]
  },
  {
   "cell_type": "code",
   "execution_count": null,
   "metadata": {},
   "outputs": [],
   "source": []
  }
 ],
 "metadata": {
  "kernelspec": {
   "display_name": "Python 3",
   "language": "python",
   "name": "python3"
  },
  "language_info": {
   "codemirror_mode": {
    "name": "ipython",
    "version": 3
   },
   "file_extension": ".py",
   "mimetype": "text/x-python",
   "name": "python",
   "nbconvert_exporter": "python",
   "pygments_lexer": "ipython3",
   "version": "3.7.9-final"
  }
 },
 "nbformat": 4,
 "nbformat_minor": 2
}