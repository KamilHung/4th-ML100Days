{
 "cells": [
  {
   "cell_type": "code",
   "execution_count": 1,
   "metadata": {},
   "outputs": [
    {
     "output_type": "stream",
     "name": "stderr",
     "text": [
      "Using TensorFlow backend.\n"
     ]
    }
   ],
   "source": [
    "import keras\n",
    "from keras.datasets import cifar10\n",
    "from keras.preprocessing.image import ImageDataGenerator\n",
    "from keras.models import Sequential\n",
    "from keras.layers import Dense, Dropout, Activation, Flatten\n",
    "from keras.layers import Conv2D, MaxPooling2D\n",
    "from keras.optimizers import RMSprop, Adam\n",
    "import os\n",
    "\n",
    "os.environ[\"CUDA_VISIBLE_DEVICES\"] = \"0\""
   ]
  },
  {
   "cell_type": "code",
   "execution_count": 2,
   "metadata": {},
   "outputs": [],
   "source": [
    "#Blas GEMM launch failed , 避免動態分配GPU / CPU, 出現問題\n",
    "import tensorflow as tf\n",
    "gpu_options = tf.compat.v1.GPUOptions(per_process_gpu_memory_fraction=0.333)\n",
    "sess = tf.compat.v1.Session(config=tf.compat.v1.ConfigProto(gpu_options=gpu_options))"
   ]
  },
  {
   "cell_type": "code",
   "execution_count": 3,
   "metadata": {},
   "outputs": [
    {
     "output_type": "stream",
     "name": "stdout",
     "text": [
      "x_train shape: (50000, 32, 32, 3)\n50000 train samples\n10000 test samples\n"
     ]
    }
   ],
   "source": [
    "num_classes = 10 # 類別的數量，Cifar 10 共有 10 個類別\n",
    "epochs = 50 # 訓練的 epochs 數量\n",
    "\n",
    "# 讀取資料並檢視\n",
    "(x_train, y_train), (x_test, y_test) = cifar10.load_data()\n",
    "x_train = x_train.astype('float32')\n",
    "x_test = x_test.astype('float32')\n",
    "x_train /= 255\n",
    "x_test /= 255\n",
    "len_train= x_train.shape[0]\n",
    "len_test = x_test.shape[0]\n",
    "print('x_train shape:', x_train.shape)\n",
    "print(len_train, 'train samples')\n",
    "print(len_test, 'test samples')\n",
    "\n",
    "# 對 label 進行 one-hot encoding (y_trian 原本是純數字)\n",
    "y_train = keras.utils.to_categorical(y_train, num_classes)\n",
    "y_test = keras.utils.to_categorical(y_test, num_classes)"
   ]
  },
  {
   "cell_type": "code",
   "execution_count": 4,
   "metadata": {},
   "outputs": [],
   "source": [
    "# 分批讀入compile\n",
    "def cifar_generator(image_array, batch_size=100):\n",
    "    while True:\n",
    "        for indexs in range(0, len(image_array), batch_size): # range(start, stop[, step])\n",
    "            images = x_train[indexs: indexs+batch_size]\n",
    "            labels = y_train[indexs: indexs+batch_size]\n",
    "            yield images, labels"
   ]
  },
  {
   "cell_type": "code",
   "execution_count": 5,
   "metadata": {},
   "outputs": [],
   "source": [
    "def test_generator(image_array, batch_size=20):\n",
    "    while True:\n",
    "        for indexs in range(0, len(image_array), batch_size): # range(start, stop[, step])\n",
    "            images = x_test[indexs: indexs+batch_size]\n",
    "            labels = y_test[indexs: indexs+batch_size]\n",
    "            yield images, labels"
   ]
  },
  {
   "cell_type": "code",
   "execution_count": 6,
   "metadata": {},
   "outputs": [
    {
     "output_type": "stream",
     "name": "stdout",
     "text": [
      "Model: \"sequential_1\"\n_________________________________________________________________\nLayer (type)                 Output Shape              Param #   \n=================================================================\nconv2d_1 (Conv2D)            (None, 32, 32, 32)        2432      \n_________________________________________________________________\nactivation_1 (Activation)    (None, 32, 32, 32)        0         \n_________________________________________________________________\nconv2d_2 (Conv2D)            (None, 28, 28, 32)        25632     \n_________________________________________________________________\nactivation_2 (Activation)    (None, 28, 28, 32)        0         \n_________________________________________________________________\nmax_pooling2d_1 (MaxPooling2 (None, 14, 14, 32)        0         \n_________________________________________________________________\ndropout_1 (Dropout)          (None, 14, 14, 32)        0         \n_________________________________________________________________\nconv2d_3 (Conv2D)            (None, 14, 14, 64)        51264     \n_________________________________________________________________\nactivation_3 (Activation)    (None, 14, 14, 64)        0         \n_________________________________________________________________\nconv2d_4 (Conv2D)            (None, 10, 10, 64)        102464    \n_________________________________________________________________\nactivation_4 (Activation)    (None, 10, 10, 64)        0         \n_________________________________________________________________\nmax_pooling2d_2 (MaxPooling2 (None, 5, 5, 64)          0         \n_________________________________________________________________\ndropout_2 (Dropout)          (None, 5, 5, 64)          0         \n_________________________________________________________________\nflatten_1 (Flatten)          (None, 1600)              0         \n_________________________________________________________________\ndense_1 (Dense)              (None, 512)               819712    \n_________________________________________________________________\nactivation_5 (Activation)    (None, 512)               0         \n_________________________________________________________________\ndropout_3 (Dropout)          (None, 512)               0         \n_________________________________________________________________\ndense_2 (Dense)              (None, 10)                5130      \n_________________________________________________________________\nactivation_6 (Activation)    (None, 10)                0         \n=================================================================\nTotal params: 1,006,634\nTrainable params: 1,006,634\nNon-trainable params: 0\n_________________________________________________________________\n"
     ]
    }
   ],
   "source": [
    "# 建立模型\n",
    "keras.backend.clear_session() # 把舊的 Graph 清掉\n",
    "model = Sequential()\n",
    "model.add(Conv2D(32, (5, 5), padding='same',\n",
    "                 input_shape=x_train.shape[1:]))\n",
    "model.add(Activation('relu'))\n",
    "model.add(Conv2D(32, (5, 5)))\n",
    "model.add(Activation('relu'))\n",
    "model.add(MaxPooling2D(pool_size=(2, 2)))\n",
    "model.add(Dropout(0.25))\n",
    "\n",
    "model.add(Conv2D(64, (5, 5), padding='same'))\n",
    "model.add(Activation('relu'))\n",
    "model.add(Conv2D(64, (5, 5)))\n",
    "model.add(Activation('relu'))\n",
    "model.add(MaxPooling2D(pool_size=(2, 2)))\n",
    "model.add(Dropout(0.25))\n",
    "\n",
    "model.add(Flatten())\n",
    "model.add(Dense(512))\n",
    "model.add(Activation('relu'))\n",
    "model.add(Dropout(0.5))\n",
    "model.add(Dense(num_classes))\n",
    "model.add(Activation('softmax'))\n",
    "model.summary()\n",
    "model.compile(loss='categorical_crossentropy',\n",
    "              optimizer=Adam(),\n",
    "              metrics=['accuracy'])"
   ]
  },
  {
   "cell_type": "code",
   "execution_count": 7,
   "metadata": {},
   "outputs": [
    {
     "output_type": "stream",
     "name": "stdout",
     "text": [
      "Epoch 1/50\n",
      "100/100 [==============================] - 3s 30ms/step - loss: 2.0779 - accuracy: 0.2140 - val_loss: 2.1394 - val_accuracy: 0.3120\n",
      "Epoch 2/50\n",
      "100/100 [==============================] - 1s 14ms/step - loss: 1.7642 - accuracy: 0.3451 - val_loss: 1.6886 - val_accuracy: 0.3750\n",
      "Epoch 3/50\n",
      "100/100 [==============================] - 1s 13ms/step - loss: 1.5670 - accuracy: 0.4161 - val_loss: 1.3824 - val_accuracy: 0.4660\n",
      "Epoch 4/50\n",
      "100/100 [==============================] - 1s 13ms/step - loss: 1.4812 - accuracy: 0.4559 - val_loss: 1.3457 - val_accuracy: 0.4900\n",
      "Epoch 5/50\n",
      "100/100 [==============================] - 1s 13ms/step - loss: 1.4050 - accuracy: 0.4918 - val_loss: 1.5090 - val_accuracy: 0.5425\n",
      "Epoch 6/50\n",
      "100/100 [==============================] - 1s 13ms/step - loss: 1.3092 - accuracy: 0.5258 - val_loss: 1.6148 - val_accuracy: 0.5785\n",
      "Epoch 7/50\n",
      "100/100 [==============================] - 1s 13ms/step - loss: 1.2892 - accuracy: 0.5395 - val_loss: 1.2289 - val_accuracy: 0.5660\n",
      "Epoch 8/50\n",
      "100/100 [==============================] - 1s 13ms/step - loss: 1.1995 - accuracy: 0.5664 - val_loss: 1.3502 - val_accuracy: 0.5855\n",
      "Epoch 9/50\n",
      "100/100 [==============================] - 1s 13ms/step - loss: 1.1779 - accuracy: 0.5779 - val_loss: 1.0440 - val_accuracy: 0.6075\n",
      "Epoch 10/50\n",
      "100/100 [==============================] - 1s 13ms/step - loss: 1.1336 - accuracy: 0.6009 - val_loss: 1.2076 - val_accuracy: 0.6240\n",
      "Epoch 11/50\n",
      "100/100 [==============================] - 1s 13ms/step - loss: 1.0980 - accuracy: 0.6099 - val_loss: 1.2891 - val_accuracy: 0.6455\n",
      "Epoch 12/50\n",
      "100/100 [==============================] - 1s 13ms/step - loss: 1.0796 - accuracy: 0.6186 - val_loss: 0.9146 - val_accuracy: 0.6350\n",
      "Epoch 13/50\n",
      "100/100 [==============================] - 1s 13ms/step - loss: 1.0208 - accuracy: 0.6386 - val_loss: 1.0564 - val_accuracy: 0.6730\n",
      "Epoch 14/50\n",
      "100/100 [==============================] - 1s 14ms/step - loss: 1.0120 - accuracy: 0.6457 - val_loss: 0.9026 - val_accuracy: 0.6725\n",
      "Epoch 15/50\n",
      "100/100 [==============================] - 1s 13ms/step - loss: 0.9913 - accuracy: 0.6540 - val_loss: 1.1980 - val_accuracy: 0.6650\n",
      "Epoch 16/50\n",
      "100/100 [==============================] - 1s 13ms/step - loss: 0.9643 - accuracy: 0.6582 - val_loss: 1.1140 - val_accuracy: 0.6820\n",
      "Epoch 17/50\n",
      "100/100 [==============================] - 1s 13ms/step - loss: 0.9562 - accuracy: 0.6670 - val_loss: 0.7794 - val_accuracy: 0.6680\n",
      "Epoch 18/50\n",
      "100/100 [==============================] - 1s 13ms/step - loss: 0.9095 - accuracy: 0.6840 - val_loss: 1.1303 - val_accuracy: 0.7015\n",
      "Epoch 19/50\n",
      "100/100 [==============================] - 1s 13ms/step - loss: 0.9182 - accuracy: 0.6722 - val_loss: 0.8410 - val_accuracy: 0.7080\n",
      "Epoch 20/50\n",
      "100/100 [==============================] - 1s 13ms/step - loss: 0.8854 - accuracy: 0.6880 - val_loss: 1.1240 - val_accuracy: 0.7035\n",
      "Epoch 21/50\n",
      "100/100 [==============================] - 1s 14ms/step - loss: 0.8816 - accuracy: 0.6944 - val_loss: 1.0571 - val_accuracy: 0.7120\n",
      "Epoch 22/50\n",
      "100/100 [==============================] - 1s 14ms/step - loss: 0.8825 - accuracy: 0.6969 - val_loss: 0.6899 - val_accuracy: 0.7060\n",
      "Epoch 23/50\n",
      "100/100 [==============================] - 1s 14ms/step - loss: 0.8480 - accuracy: 0.7030 - val_loss: 0.9679 - val_accuracy: 0.7210\n",
      "Epoch 24/50\n",
      "100/100 [==============================] - 1s 14ms/step - loss: 0.8391 - accuracy: 0.7065 - val_loss: 0.7796 - val_accuracy: 0.7300\n",
      "Epoch 25/50\n",
      "100/100 [==============================] - 1s 13ms/step - loss: 0.8211 - accuracy: 0.7133 - val_loss: 1.2765 - val_accuracy: 0.7035\n",
      "Epoch 26/50\n",
      "100/100 [==============================] - 1s 13ms/step - loss: 0.8056 - accuracy: 0.7165 - val_loss: 1.0695 - val_accuracy: 0.7355\n",
      "Epoch 27/50\n",
      "100/100 [==============================] - 1s 13ms/step - loss: 0.8176 - accuracy: 0.7115 - val_loss: 0.6176 - val_accuracy: 0.7125\n",
      "Epoch 28/50\n",
      "100/100 [==============================] - 1s 13ms/step - loss: 0.7805 - accuracy: 0.7247 - val_loss: 1.0220 - val_accuracy: 0.7405\n",
      "Epoch 29/50\n",
      "100/100 [==============================] - 1s 13ms/step - loss: 0.8183 - accuracy: 0.7113 - val_loss: 0.8106 - val_accuracy: 0.7205\n",
      "Epoch 30/50\n",
      "100/100 [==============================] - 1s 14ms/step - loss: 0.7535 - accuracy: 0.7330 - val_loss: 1.1710 - val_accuracy: 0.7205\n",
      "Epoch 31/50\n",
      "100/100 [==============================] - 1s 13ms/step - loss: 0.7625 - accuracy: 0.7334 - val_loss: 1.2445 - val_accuracy: 0.7440\n",
      "Epoch 32/50\n",
      "100/100 [==============================] - 1s 13ms/step - loss: 0.7733 - accuracy: 0.7302 - val_loss: 0.7159 - val_accuracy: 0.7220\n",
      "Epoch 33/50\n",
      "100/100 [==============================] - 1s 13ms/step - loss: 0.7293 - accuracy: 0.7423 - val_loss: 0.9628 - val_accuracy: 0.7400\n",
      "Epoch 34/50\n",
      "100/100 [==============================] - 1s 13ms/step - loss: 0.7653 - accuracy: 0.7315 - val_loss: 0.7306 - val_accuracy: 0.7345\n",
      "Epoch 35/50\n",
      "100/100 [==============================] - 1s 13ms/step - loss: 0.7372 - accuracy: 0.7409 - val_loss: 1.0325 - val_accuracy: 0.7350\n",
      "Epoch 36/50\n",
      "100/100 [==============================] - 1s 13ms/step - loss: 0.7136 - accuracy: 0.7508 - val_loss: 1.0953 - val_accuracy: 0.7385\n",
      "Epoch 37/50\n",
      "100/100 [==============================] - 1s 13ms/step - loss: 0.7255 - accuracy: 0.7419 - val_loss: 0.7197 - val_accuracy: 0.7330\n",
      "Epoch 38/50\n",
      "100/100 [==============================] - 1s 13ms/step - loss: 0.7067 - accuracy: 0.7519 - val_loss: 0.8998 - val_accuracy: 0.7575\n",
      "Epoch 39/50\n",
      "100/100 [==============================] - 1s 13ms/step - loss: 0.7305 - accuracy: 0.7420 - val_loss: 0.5916 - val_accuracy: 0.7465\n",
      "Epoch 40/50\n",
      "100/100 [==============================] - 1s 13ms/step - loss: 0.6898 - accuracy: 0.7612 - val_loss: 1.0788 - val_accuracy: 0.7545\n",
      "Epoch 41/50\n",
      "100/100 [==============================] - 1s 13ms/step - loss: 0.6861 - accuracy: 0.7600 - val_loss: 1.1532 - val_accuracy: 0.7375\n",
      "Epoch 42/50\n",
      "100/100 [==============================] - 1s 13ms/step - loss: 0.7010 - accuracy: 0.7545 - val_loss: 0.5256 - val_accuracy: 0.7385\n",
      "Epoch 43/50\n",
      "100/100 [==============================] - 1s 13ms/step - loss: 0.6898 - accuracy: 0.7619 - val_loss: 0.9182 - val_accuracy: 0.7585\n",
      "Epoch 44/50\n",
      "100/100 [==============================] - 1s 13ms/step - loss: 0.6764 - accuracy: 0.7624 - val_loss: 0.6119 - val_accuracy: 0.7585\n",
      "Epoch 45/50\n",
      "100/100 [==============================] - 1s 13ms/step - loss: 0.6465 - accuracy: 0.7697 - val_loss: 1.1371 - val_accuracy: 0.7515\n",
      "Epoch 46/50\n",
      "100/100 [==============================] - 1s 13ms/step - loss: 0.6410 - accuracy: 0.7674 - val_loss: 0.8868 - val_accuracy: 0.7495\n",
      "Epoch 47/50\n",
      "100/100 [==============================] - 1s 13ms/step - loss: 0.6688 - accuracy: 0.7644 - val_loss: 0.5962 - val_accuracy: 0.7530\n",
      "Epoch 48/50\n",
      "100/100 [==============================] - 1s 13ms/step - loss: 0.6338 - accuracy: 0.7785 - val_loss: 0.7991 - val_accuracy: 0.7675\n",
      "Epoch 49/50\n",
      "100/100 [==============================] - 1s 13ms/step - loss: 0.6640 - accuracy: 0.7638 - val_loss: 0.6933 - val_accuracy: 0.7595\n",
      "Epoch 50/50\n",
      "100/100 [==============================] - 1s 13ms/step - loss: 0.6399 - accuracy: 0.7756 - val_loss: 0.8611 - val_accuracy: 0.7600\n",
      "Test loss: 0.7093075737953186\n",
      "Test accuracy: 0.7603999972343445\n"
     ]
    }
   ],
   "source": [
    "cifar_gen = cifar_generator(x_train)\n",
    "test_gen  = test_generator(x_test)\n",
    "\n",
    "model.fit_generator(\n",
    "                    cifar_gen,\n",
    "                    steps_per_epoch= 100,\n",
    "                    epochs=epochs,\n",
    "                    verbose=1, \n",
    "                    validation_data = test_gen,\n",
    "                    validation_steps = 100,\n",
    "                    initial_epoch=0\n",
    "                    )\n",
    "    \n",
    "\n",
    "score = model.evaluate(x_test, y_test, verbose=0)\n",
    "print('Test loss:', score[0])\n",
    "print('Test accuracy:', score[1])"
   ]
  }
 ],
 "metadata": {
  "kernelspec": {
   "display_name": "Python 3",
   "language": "python",
   "name": "python3"
  },
  "language_info": {
   "codemirror_mode": {
    "name": "ipython",
    "version": 3
   },
   "file_extension": ".py",
   "mimetype": "text/x-python",
   "name": "python",
   "nbconvert_exporter": "python",
   "pygments_lexer": "ipython3",
   "version": "3.7.9-final"
  }
 },
 "nbformat": 4,
 "nbformat_minor": 2
}