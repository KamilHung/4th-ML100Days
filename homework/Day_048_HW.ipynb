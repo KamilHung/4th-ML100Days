{
 "cells": [
  {
   "cell_type": "code",
   "execution_count": 1,
   "metadata": {},
   "outputs": [],
   "source": [
    "import numpy as np\n",
    "import pandas as pd\n",
    "from sklearn import metrics\n",
    "from sklearn.model_selection import train_test_split, GridSearchCV\n",
    "from sklearn.ensemble import GradientBoostingClassifier\n",
    "\n",
    "import warnings\n",
    "warnings.filterwarnings(\"ignore\")"
   ]
  },
  {
   "cell_type": "code",
   "execution_count": 2,
   "metadata": {},
   "outputs": [],
   "source": [
    "path = '../../Data Science London + Scikit-learn/'\n",
    "app_train = pd.read_csv(path + 'train.csv', header=None)\n",
    "app_test = pd.read_csv(path + 'test.csv', header=None)\n",
    "target = pd.read_csv(path + 'trainLabels.csv', header=None)"
   ]
  },
  {
   "cell_type": "code",
   "execution_count": 3,
   "metadata": {},
   "outputs": [
    {
     "output_type": "stream",
     "name": "stdout",
     "text": [
      "(1000, 40) (9000, 40) (1000, 1)\n"
     ]
    }
   ],
   "source": [
    "train = app_train.copy()\n",
    "test = app_test.copy()\n",
    "\n",
    "print(train.shape, test.shape, target.shape)"
   ]
  },
  {
   "cell_type": "code",
   "execution_count": 4,
   "metadata": {},
   "outputs": [],
   "source": [
    "reg = GradientBoostingClassifier(random_state = 7)\n",
    "\n",
    "reg.fit(train, target)\n",
    "\n",
    "pred = reg.predict(test)"
   ]
  },
  {
   "cell_type": "code",
   "execution_count": 5,
   "metadata": {},
   "outputs": [
    {
     "output_type": "stream",
     "name": "stdout",
     "text": [
      "Fitting 5 folds for each of 100 candidates, totalling 500 fits\n",
      "[Parallel(n_jobs=-1)]: Using backend LokyBackend with 12 concurrent workers.\n",
      "[Parallel(n_jobs=-1)]: Done  26 tasks      | elapsed:    5.6s\n",
      "[Parallel(n_jobs=-1)]: Done 176 tasks      | elapsed:  1.2min\n",
      "[Parallel(n_jobs=-1)]: Done 426 tasks      | elapsed:  6.7min\n",
      "[Parallel(n_jobs=-1)]: Done 500 out of 500 | elapsed:  8.6min finished\n",
      "Best Accuracy: -0.121 using {'max_depth': 4, 'n_estimators': 1000}\n"
     ]
    }
   ],
   "source": [
    "n_estimators = [100 * (i + 1) for i in range(10)]\n",
    "max_depth = [2 ** i for i in range(10)]\n",
    "param_grid = dict(n_estimators = n_estimators, max_depth = max_depth)\n",
    "\n",
    "grid_search = GridSearchCV(reg, param_grid, scoring = \"neg_mean_squared_error\", n_jobs = -1, verbose = 1)\n",
    "\n",
    "grid_result = grid_search.fit(train, target)\n",
    "                              \n",
    "print(f\"Best Accuracy: {grid_result.best_score_} using {grid_result.best_params_}\")"
   ]
  },
  {
   "cell_type": "code",
   "execution_count": 6,
   "metadata": {},
   "outputs": [
    {
     "output_type": "stream",
     "name": "stdout",
     "text": [
      "      0\n0     1\n1     0\n2     1\n3     0\n4     0\n...  ..\n8995  1\n8996  1\n8997  1\n8998  0\n8999  1\n\n[9000 rows x 1 columns]\n"
     ]
    }
   ],
   "source": [
    "best_clf = GradientBoostingClassifier(\n",
    "        n_estimators = grid_result.best_params_[\"n_estimators\"],\n",
    "        max_depth = grid_result.best_params_[\"max_depth\"]\n",
    ")\n",
    "\n",
    "best_clf.fit(train, target)\n",
    "\n",
    "pred = best_clf.predict(test)\n",
    "\n",
    "submission = pd.DataFrame(pred)\n",
    "print(submission)"
   ]
  },
  {
   "cell_type": "code",
   "execution_count": 7,
   "metadata": {},
   "outputs": [
    {
     "output_type": "stream",
     "name": "stdout",
     "text": [
      "      Solution\n0            1\n1            0\n2            1\n3            0\n4            0\n...        ...\n8995         1\n8996         1\n8997         1\n8998         0\n8999         1\n\n[9000 rows x 1 columns]\n"
     ]
    }
   ],
   "source": [
    "submission.columns = ['Solution']\n",
    "print(submission)"
   ]
  },
  {
   "cell_type": "code",
   "execution_count": 8,
   "metadata": {},
   "outputs": [
    {
     "output_type": "stream",
     "name": "stdout",
     "text": [
      "      Solution    Id\n0            1     1\n1            0     2\n2            1     3\n3            0     4\n4            0     5\n...        ...   ...\n8995         1  8996\n8996         1  8997\n8997         1  8998\n8998         0  8999\n8999         1  9000\n\n[9000 rows x 2 columns]\n"
     ]
    }
   ],
   "source": [
    "submission['Id'] = np.arange(1, submission.shape[0]+1)\n",
    "print(submission)"
   ]
  },
  {
   "cell_type": "code",
   "execution_count": 10,
   "metadata": {},
   "outputs": [
    {
     "output_type": "stream",
     "name": "stdout",
     "text": [
      "(9000, 2)\n"
     ]
    }
   ],
   "source": [
    "submission = submission[['Id', 'Solution']]\n",
    "pd.DataFrame(submission).to_csv(\"Day_048_HW.csv\", index = False)\n",
    "print(submission.shape)"
   ]
  },
  {
   "cell_type": "code",
   "execution_count": null,
   "metadata": {},
   "outputs": [],
   "source": []
  }
 ],
 "metadata": {
  "kernelspec": {
   "name": "python3",
   "display_name": "Python 3.7.9 64-bit (conda)",
   "metadata": {
    "interpreter": {
     "hash": "895210453c954da06bdc6e25ab5209d0b459833a36a75bea98f2fc4cc809448d"
    }
   }
  },
  "language_info": {
   "codemirror_mode": {
    "name": "ipython",
    "version": 3
   },
   "file_extension": ".py",
   "mimetype": "text/x-python",
   "name": "python",
   "nbconvert_exporter": "python",
   "pygments_lexer": "ipython3",
   "version": "3.7.9-final"
  }
 },
 "nbformat": 4,
 "nbformat_minor": 2
}