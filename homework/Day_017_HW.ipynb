{
 "cells": [
  {
   "cell_type": "markdown",
   "metadata": {},
   "source": [
    "# 作業\n",
    "- 新增一個欄位 `customized_age_grp`，把 `age` 分為 (0, 10], (10, 20], (20, 30], (30, 50], (50, 100] 這五組，\n",
    "'(' 表示不包含, ']' 表示包含  \n",
    "- Hints: 執行 ??pd.cut()，了解提供其中 bins 這個參數的使用方式"
   ]
  },
  {
   "cell_type": "markdown",
   "metadata": {},
   "source": [
    "# [作業目標]\n",
    "- 請同學試著查詢 pandas.cut 這個函數還有哪些參數, 藉由改動參數以達成目標\n",
    "- 藉由查詢與改動參數的過程, 熟悉查詢函數的方法與理解參數性質, 並了解數值的離散化的調整工具"
   ]
  },
  {
   "cell_type": "markdown",
   "metadata": {},
   "source": [
    "# [作業重點]\n",
    "- 仿照 In[3], In[4] 的語法, 並設定 pd.cut 的參數以指定間距"
   ]
  },
  {
   "cell_type": "code",
   "execution_count": 1,
   "metadata": {
    "collapsed": true
   },
   "outputs": [],
   "source": [
    "# 載入套件\n",
    "import os\n",
    "import numpy as np\n",
    "import pandas as pd\n",
    "\n",
    "import matplotlib.pyplot as plt\n",
    "%matplotlib inline"
   ]
  },
  {
   "cell_type": "code",
   "execution_count": 2,
   "metadata": {
    "collapsed": true
   },
   "outputs": [],
   "source": [
    "# 初始設定 Ages 的資料\n",
    "ages = pd.DataFrame({\"age\": [18,22,25,27,7,21,23,37,30,61,45,41,9,18,80,100]})"
   ]
  },
  {
   "cell_type": "markdown",
   "metadata": {},
   "source": [
    "#### 等寬劃分"
   ]
  },
  {
   "cell_type": "code",
   "execution_count": 3,
   "metadata": {
    "collapsed": true
   },
   "outputs": [],
   "source": [
    "# 新增欄位 \"equal_width_age\", 對年齡做等寬劃分\n",
    "ages[\"equal_width_age\"] = pd.cut(ages[\"age\"], 4)"
   ]
  },
  {
   "cell_type": "code",
   "execution_count": 4,
   "metadata": {},
   "outputs": [
    {
     "output_type": "execute_result",
     "data": {
      "text/plain": "(6.907, 30.25]    10\n(30.25, 53.5]      3\n(76.75, 100.0]     2\n(53.5, 76.75]      1\nName: equal_width_age, dtype: int64"
     },
     "metadata": {},
     "execution_count": 4
    }
   ],
   "source": [
    "# 觀察等寬劃分下, 每個種組距各出現幾次\n",
    "ages[\"equal_width_age\"].value_counts() # 每個 bin 的值的範圍大小都是一樣的"
   ]
  },
  {
   "cell_type": "markdown",
   "metadata": {},
   "source": [
    "#### 等頻劃分"
   ]
  },
  {
   "cell_type": "code",
   "execution_count": 5,
   "metadata": {
    "collapsed": true
   },
   "outputs": [],
   "source": [
    "# 新增欄位 \"equal_freq_age\", 對年齡做等頻劃分\n",
    "ages[\"equal_freq_age\"] = pd.qcut(ages[\"age\"], 4)"
   ]
  },
  {
   "cell_type": "code",
   "execution_count": 6,
   "metadata": {},
   "outputs": [
    {
     "output_type": "execute_result",
     "data": {
      "text/plain": "(42.0, 100.0]     4\n(26.0, 42.0]      4\n(20.25, 26.0]     4\n(6.999, 20.25]    4\nName: equal_freq_age, dtype: int64"
     },
     "metadata": {},
     "execution_count": 6
    }
   ],
   "source": [
    "# 觀察等頻劃分下, 每個種組距各出現幾次\n",
    "ages[\"equal_freq_age\"].value_counts() # 每個 bin 的資料筆數是一樣的"
   ]
  },
  {
   "cell_type": "code",
   "execution_count": 7,
   "metadata": {
    "collapsed": true
   },
   "outputs": [
    {
     "output_type": "stream",
     "text": "\u001b[1;31mSignature:\u001b[0m\n\u001b[0mpd\u001b[0m\u001b[1;33m.\u001b[0m\u001b[0mcut\u001b[0m\u001b[1;33m(\u001b[0m\u001b[1;33m\n\u001b[0m    \u001b[0mx\u001b[0m\u001b[1;33m,\u001b[0m\u001b[1;33m\n\u001b[0m    \u001b[0mbins\u001b[0m\u001b[1;33m,\u001b[0m\u001b[1;33m\n\u001b[0m    \u001b[0mright\u001b[0m\u001b[1;33m:\u001b[0m \u001b[0mbool\u001b[0m \u001b[1;33m=\u001b[0m \u001b[1;32mTrue\u001b[0m\u001b[1;33m,\u001b[0m\u001b[1;33m\n\u001b[0m    \u001b[0mlabels\u001b[0m\u001b[1;33m=\u001b[0m\u001b[1;32mNone\u001b[0m\u001b[1;33m,\u001b[0m\u001b[1;33m\n\u001b[0m    \u001b[0mretbins\u001b[0m\u001b[1;33m:\u001b[0m \u001b[0mbool\u001b[0m \u001b[1;33m=\u001b[0m \u001b[1;32mFalse\u001b[0m\u001b[1;33m,\u001b[0m\u001b[1;33m\n\u001b[0m    \u001b[0mprecision\u001b[0m\u001b[1;33m:\u001b[0m \u001b[0mint\u001b[0m \u001b[1;33m=\u001b[0m \u001b[1;36m3\u001b[0m\u001b[1;33m,\u001b[0m\u001b[1;33m\n\u001b[0m    \u001b[0minclude_lowest\u001b[0m\u001b[1;33m:\u001b[0m \u001b[0mbool\u001b[0m \u001b[1;33m=\u001b[0m \u001b[1;32mFalse\u001b[0m\u001b[1;33m,\u001b[0m\u001b[1;33m\n\u001b[0m    \u001b[0mduplicates\u001b[0m\u001b[1;33m:\u001b[0m \u001b[0mstr\u001b[0m \u001b[1;33m=\u001b[0m \u001b[1;34m'raise'\u001b[0m\u001b[1;33m,\u001b[0m\u001b[1;33m\n\u001b[0m    \u001b[0mordered\u001b[0m\u001b[1;33m:\u001b[0m \u001b[0mbool\u001b[0m \u001b[1;33m=\u001b[0m \u001b[1;32mTrue\u001b[0m\u001b[1;33m,\u001b[0m\u001b[1;33m\n\u001b[0m\u001b[1;33m)\u001b[0m\u001b[1;33m\u001b[0m\u001b[1;33m\u001b[0m\u001b[0m\n\u001b[1;31mDocstring:\u001b[0m\nBin values into discrete intervals.\n\nUse `cut` when you need to segment and sort data values into bins. This\nfunction is also useful for going from a continuous variable to a\ncategorical variable. For example, `cut` could convert ages to groups of\nage ranges. Supports binning into an equal number of bins, or a\npre-specified array of bins.\n\nParameters\n----------\nx : array-like\n    The input array to be binned. Must be 1-dimensional.\nbins : int, sequence of scalars, or IntervalIndex\n    The criteria to bin by.\n\n    * int : Defines the number of equal-width bins in the range of `x`. The\n      range of `x` is extended by .1% on each side to include the minimum\n      and maximum values of `x`.\n    * sequence of scalars : Defines the bin edges allowing for non-uniform\n      width. No extension of the range of `x` is done.\n    * IntervalIndex : Defines the exact bins to be used. Note that\n      IntervalIndex for `bins` must be non-overlapping.\n\nright : bool, default True\n    Indicates whether `bins` includes the rightmost edge or not. If\n    ``right == True`` (the default), then the `bins` ``[1, 2, 3, 4]``\n    indicate (1,2], (2,3], (3,4]. This argument is ignored when\n    `bins` is an IntervalIndex.\nlabels : array or False, default None\n    Specifies the labels for the returned bins. Must be the same length as\n    the resulting bins. If False, returns only integer indicators of the\n    bins. This affects the type of the output container (see below).\n    This argument is ignored when `bins` is an IntervalIndex. If True,\n    raises an error. When `ordered=False`, labels must be provided.\nretbins : bool, default False\n    Whether to return the bins or not. Useful when bins is provided\n    as a scalar.\nprecision : int, default 3\n    The precision at which to store and display the bins labels.\ninclude_lowest : bool, default False\n    Whether the first interval should be left-inclusive or not.\nduplicates : {default 'raise', 'drop'}, optional\n    If bin edges are not unique, raise ValueError or drop non-uniques.\n\n    .. versionadded:: 0.23.0\nordered : bool, default True\n    Whether the labels are ordered or not. Applies to returned types\n    Categorical and Series (with Categorical dtype). If True,\n    the resulting categorical will be ordered. If False, the resulting\n    categorical will be unordered (labels must be provided).\n\n    .. versionadded:: 1.1.0\n\nReturns\n-------\nout : Categorical, Series, or ndarray\n    An array-like object representing the respective bin for each value\n    of `x`. The type depends on the value of `labels`.\n\n    * True (default) : returns a Series for Series `x` or a\n      Categorical for all other inputs. The values stored within\n      are Interval dtype.\n\n    * sequence of scalars : returns a Series for Series `x` or a\n      Categorical for all other inputs. The values stored within\n      are whatever the type in the sequence is.\n\n    * False : returns an ndarray of integers.\n\nbins : numpy.ndarray or IntervalIndex.\n    The computed or specified bins. Only returned when `retbins=True`.\n    For scalar or sequence `bins`, this is an ndarray with the computed\n    bins. If set `duplicates=drop`, `bins` will drop non-unique bin. For\n    an IntervalIndex `bins`, this is equal to `bins`.\n\nSee Also\n--------\nqcut : Discretize variable into equal-sized buckets based on rank\n    or based on sample quantiles.\nCategorical : Array type for storing data that come from a\n    fixed set of values.\nSeries : One-dimensional array with axis labels (including time series).\nIntervalIndex : Immutable Index implementing an ordered, sliceable set.\n\nNotes\n-----\nAny NA values will be NA in the result. Out of bounds values will be NA in\nthe resulting Series or Categorical object.\n\nExamples\n--------\nDiscretize into three equal-sized bins.\n\n>>> pd.cut(np.array([1, 7, 5, 4, 6, 3]), 3)\n... # doctest: +ELLIPSIS\n[(0.994, 3.0], (5.0, 7.0], (3.0, 5.0], (3.0, 5.0], (5.0, 7.0], ...\nCategories (3, interval[float64]): [(0.994, 3.0] < (3.0, 5.0] ...\n\n>>> pd.cut(np.array([1, 7, 5, 4, 6, 3]), 3, retbins=True)\n... # doctest: +ELLIPSIS\n([(0.994, 3.0], (5.0, 7.0], (3.0, 5.0], (3.0, 5.0], (5.0, 7.0], ...\nCategories (3, interval[float64]): [(0.994, 3.0] < (3.0, 5.0] ...\narray([0.994, 3.   , 5.   , 7.   ]))\n\nDiscovers the same bins, but assign them specific labels. Notice that\nthe returned Categorical's categories are `labels` and is ordered.\n\n>>> pd.cut(np.array([1, 7, 5, 4, 6, 3]),\n...        3, labels=[\"bad\", \"medium\", \"good\"])\n['bad', 'good', 'medium', 'medium', 'good', 'bad']\nCategories (3, object): ['bad' < 'medium' < 'good']\n\n``ordered=False`` will result in unordered categories when labels are passed.\nThis parameter can be used to allow non-unique labels:\n\n>>> pd.cut(np.array([1, 7, 5, 4, 6, 3]), 3,\n...        labels=[\"B\", \"A\", \"B\"], ordered=False)\n['B', 'B', 'A', 'A', 'B', 'B']\nCategories (2, object): ['A', 'B']\n\n``labels=False`` implies you just want the bins back.\n\n>>> pd.cut([0, 1, 1, 2], bins=4, labels=False)\narray([0, 1, 1, 3])\n\nPassing a Series as an input returns a Series with categorical dtype:\n\n>>> s = pd.Series(np.array([2, 4, 6, 8, 10]),\n...               index=['a', 'b', 'c', 'd', 'e'])\n>>> pd.cut(s, 3)\n... # doctest: +ELLIPSIS\na    (1.992, 4.667]\nb    (1.992, 4.667]\nc    (4.667, 7.333]\nd     (7.333, 10.0]\ne     (7.333, 10.0]\ndtype: category\nCategories (3, interval[float64]): [(1.992, 4.667] < (4.667, ...\n\nPassing a Series as an input returns a Series with mapping value.\nIt is used to map numerically to intervals based on bins.\n\n>>> s = pd.Series(np.array([2, 4, 6, 8, 10]),\n...               index=['a', 'b', 'c', 'd', 'e'])\n>>> pd.cut(s, [0, 2, 4, 6, 8, 10], labels=False, retbins=True, right=False)\n... # doctest: +ELLIPSIS\n(a    1.0\n b    2.0\n c    3.0\n d    4.0\n e    NaN\n dtype: float64,\n array([ 0,  2,  4,  6,  8, 10]))\n\nUse `drop` optional when bins is not unique\n\n>>> pd.cut(s, [0, 2, 4, 6, 10, 10], labels=False, retbins=True,\n...        right=False, duplicates='drop')\n... # doctest: +ELLIPSIS\n(a    1.0\n b    2.0\n c    3.0\n d    3.0\n e    NaN\n dtype: float64,\n array([ 0,  2,  4,  6, 10]))\n\nPassing an IntervalIndex for `bins` results in those categories exactly.\nNotice that values not covered by the IntervalIndex are set to NaN. 0\nis to the left of the first bin (which is closed on the right), and 1.5\nfalls between two bins.\n\n>>> bins = pd.IntervalIndex.from_tuples([(0, 1), (2, 3), (4, 5)])\n>>> pd.cut([0, 0.5, 1.5, 2.5, 4.5], bins)\n[NaN, (0.0, 1.0], NaN, (2.0, 3.0], (4.0, 5.0]]\nCategories (3, interval[int64]): [(0, 1] < (2, 3] < (4, 5]]\n\u001b[1;31mFile:\u001b[0m      d:\\program files\\anaconda3\\envs\\ai-course\\lib\\site-packages\\pandas\\core\\reshape\\tile.py\n\u001b[1;31mType:\u001b[0m      function\n"
    }
   ],
   "source": [
    "?pd.cut"
   ]
  },
  {
   "cell_type": "code",
   "execution_count": 8,
   "metadata": {},
   "outputs": [],
   "source": [
    "ages[\"customized_age_grp\"] = pd.cut(ages[\"age\"], bins=[0, 10, 20, 30, 50, 100], right=True)"
   ]
  },
  {
   "cell_type": "code",
   "execution_count": 9,
   "metadata": {},
   "outputs": [
    {
     "output_type": "execute_result",
     "data": {
      "text/plain": "(0, 10]      2\n(10, 20]     2\n(20, 30]     6\n(30, 50]     3\n(50, 100]    3\nName: customized_age_grp, dtype: int64"
     },
     "metadata": {},
     "execution_count": 9
    }
   ],
   "source": [
    "ages[\"customized_age_grp\"].value_counts().sort_index()"
   ]
  }
 ],
 "metadata": {
  "kernelspec": {
   "display_name": "Python 3.7.6 64-bit ('ai-course': conda)",
   "language": "python",
   "name": "python37664bitaicourseconda4ba88915fb5147afa8f4135fbfd4bc1a"
  },
  "language_info": {
   "codemirror_mode": {
    "name": "ipython",
    "version": 3
   },
   "file_extension": ".py",
   "mimetype": "text/x-python",
   "name": "python",
   "nbconvert_exporter": "python",
   "pygments_lexer": "ipython3",
   "version": "3.7.7-final"
  }
 },
 "nbformat": 4,
 "nbformat_minor": 2
}