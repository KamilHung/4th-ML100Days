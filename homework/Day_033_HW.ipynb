{
 "cells": [
  {
   "cell_type": "markdown",
   "metadata": {},
   "source": [
    "## 練習時間"
   ]
  },
  {
   "cell_type": "markdown",
   "metadata": {},
   "source": [
    "請觀看李宏毅教授以神奇寶貝進化 CP 值預測的範例，解說何謂機器學習與過擬合。並回答以下問題"
   ]
  },
  {
   "cell_type": "markdown",
   "metadata": {},
   "source": [
    "[youtube](https://www.youtube.com/watch?v=fegAeph9UaA)"
   ]
  },
  {
   "cell_type": "markdown",
   "metadata": {},
   "source": [
    "### 1. 模型的泛化能力 (generalization) 是指什麼？ \n",
    "* A：指一個訓練好的模型，在預測沒有遇過的新資料時，所得的平均誤差應該要盡量接近訓練時的水準，如果差距過大，可以考慮調整參數或使用更複雜的模型。\n",
    "### 2. 分類問題與回歸問題分別可用的目標函數有哪些？\n",
    "* A：\n",
    "\n",
    "*    分類 - logarithmic loss\n",
    "\n",
    "$$ \\text{log loss} = - \\frac{1}{N} \\sum_{i-1}^{N}\\big( y_i log(p_i) + (1-y_i)log(1-p_i) \\big) $$\n",
    "\n",
    "*    迴歸 - mean square error\n",
    "\n",
    "$$ MSE = \\frac{1}{n} \\sum_{i=1}^{n}(y_i - \\hat y_i)^2 $$"
   ]
  }
 ],
 "metadata": {
  "kernelspec": {
   "display_name": "Python 3",
   "language": "python",
   "name": "python3"
  },
  "language_info": {
   "codemirror_mode": {
    "name": "ipython",
    "version": 3
   },
   "file_extension": ".py",
   "mimetype": "text/x-python",
   "name": "python",
   "nbconvert_exporter": "python",
   "pygments_lexer": "ipython3",
   "version": "3.6.2"
  }
 },
 "nbformat": 4,
 "nbformat_minor": 2
}